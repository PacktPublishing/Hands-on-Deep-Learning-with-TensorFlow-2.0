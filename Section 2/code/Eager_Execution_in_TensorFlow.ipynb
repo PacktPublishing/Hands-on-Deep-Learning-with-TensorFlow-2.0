{
  "nbformat": 4,
  "nbformat_minor": 0,
  "metadata": {
    "colab": {
      "name": "Eager_Execution_in_TensorFlow.ipynb",
      "version": "0.3.2",
      "provenance": []
    },
    "kernelspec": {
      "name": "python3",
      "display_name": "Python 3"
    }
  },
  "cells": [
    {
      "metadata": {
        "id": "ui0l4TRICNic",
        "colab_type": "code",
        "colab": {}
      },
      "cell_type": "code",
      "source": [
        ""
      ],
      "execution_count": 0,
      "outputs": []
    },
    {
      "metadata": {
        "id": "4dDb915YCoto",
        "colab_type": "text"
      },
      "cell_type": "markdown",
      "source": [
        "# Eager Execution in TensorFlow"
      ]
    },
    {
      "metadata": {
        "id": "-YlRth8EC0vs",
        "colab_type": "text"
      },
      "cell_type": "markdown",
      "source": [
        "# Graph based Model in TensorFlow"
      ]
    },
    {
      "metadata": {
        "id": "iAFBiV_oDFuI",
        "colab_type": "code",
        "colab": {
          "base_uri": "https://localhost:8080/",
          "height": 68
        },
        "outputId": "6086a29b-70e4-4209-9c12-82135fca6ca3"
      },
      "cell_type": "code",
      "source": [
        "import tensorflow as tf\n",
        "\n",
        "print(tf.add(3, 4))\n",
        "print(tf.add([7, 8], [3, 4]))\n",
        "print(tf.square(4))"
      ],
      "execution_count": 1,
      "outputs": [
        {
          "output_type": "stream",
          "text": [
            "Tensor(\"Add:0\", shape=(), dtype=int32)\n",
            "Tensor(\"Add_1:0\", shape=(2,), dtype=int32)\n",
            "Tensor(\"Square:0\", shape=(), dtype=int32)\n"
          ],
          "name": "stdout"
        }
      ]
    },
    {
      "metadata": {
        "id": "yKz8VsSVDkpv",
        "colab_type": "text"
      },
      "cell_type": "markdown",
      "source": [
        "# Eager Execution Mode"
      ]
    },
    {
      "metadata": {
        "id": "2H3cYok_GUV7",
        "colab_type": "code",
        "colab": {}
      },
      "cell_type": "code",
      "source": [
        "import tensorflow as tf\n",
        "tf.enable_eager_execution()"
      ],
      "execution_count": 0,
      "outputs": []
    },
    {
      "metadata": {
        "id": "a-u1Xta5GdkW",
        "colab_type": "code",
        "colab": {}
      },
      "cell_type": "code",
      "source": [
        "print(tf.add(3, 4))\n",
        "print(tf.add([7, 8], [3, 4]))\n",
        "print(tf.square(4))"
      ],
      "execution_count": 0,
      "outputs": []
    }
  ]
}