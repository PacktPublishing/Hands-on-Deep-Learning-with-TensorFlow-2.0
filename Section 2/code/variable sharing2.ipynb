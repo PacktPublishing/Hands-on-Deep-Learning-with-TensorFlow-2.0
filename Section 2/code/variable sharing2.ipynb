{
 "cells": [
  {
   "cell_type": "code",
   "execution_count": 1,
   "metadata": {},
   "outputs": [
    {
     "name": "stdout",
     "output_type": "stream",
     "text": [
      "WARNING:tensorflow:From C:\\Anaconda3\\envs\\tfp3.6\\lib\\site-packages\\tensorflow\\python\\framework\\op_def_library.py:263: colocate_with (from tensorflow.python.framework.ops) is deprecated and will be removed in a future version.\n",
      "Instructions for updating:\n",
      "Colocations handled automatically by placer.\n",
      "var1 : scope1/variable1:0\n",
      "var2 : scope1/variable1:0\n"
     ]
    }
   ],
   "source": [
    "#import tensorflow\n",
    "import tensorflow as tf\n",
    "#open a variable scope named 'scope1'\n",
    "with tf.variable_scope(\"scope1\"):\n",
    "    #declare a variable named variable1\n",
    "    var1 = tf.get_variable(\"variable1\",[1])\n",
    "    #set reuse flag to True\n",
    "    tf.get_variable_scope().reuse_variables()\n",
    "    #just an assertion!\n",
    "    assert tf.get_variable_scope().reuse==True\n",
    "    #declare another variable with same name\n",
    "    var2=tf.get_variable(\"variable1\",[1])\n",
    "\n",
    "assert var1==var2\n",
    "print(\"var1 : \" + var1.name)\n",
    "print(\"var2 : \" + var2.name)"
   ]
  },
  {
   "cell_type": "code",
   "execution_count": 2,
   "metadata": {},
   "outputs": [
    {
     "name": "stdout",
     "output_type": "stream",
     "text": [
      "variable_scope1/variable1:0\n",
      "variable_scope1/name_scope1/add:0\n"
     ]
    }
   ],
   "source": [
    "#namescope and variablescope together\n",
    "#import tensorflow\n",
    "import tensorflow as tf\n",
    "#open a variable scope named 'variable_scope1'\n",
    "with tf.variable_scope(\"variable_scope1\"):\n",
    "    #open a name scope named 'name_scope1'\n",
    "    with tf.name_scope(\"name_scope1\"):\n",
    "        #declare a variable named variable1\n",
    "        var1 = tf.get_variable(\"variable1\",[1])\n",
    "        #declare an operation\n",
    "        var2=1.0+var1\n",
    "\n",
    "print(var1.name)\n",
    "print(var2.name)"
   ]
  }
 ],
 "metadata": {
  "kernelspec": {
   "display_name": "Python 3",
   "language": "python",
   "name": "python3"
  },
  "language_info": {
   "codemirror_mode": {
    "name": "ipython",
    "version": 3
   },
   "file_extension": ".py",
   "mimetype": "text/x-python",
   "name": "python",
   "nbconvert_exporter": "python",
   "pygments_lexer": "ipython3",
   "version": "3.6.8"
  }
 },
 "nbformat": 4,
 "nbformat_minor": 2
}
